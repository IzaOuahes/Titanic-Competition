{
 "cells": [
  {
   "cell_type": "markdown",
   "metadata": {},
   "source": [
    "# Boyer Romain - Dechorgnat Paul - Kallala Inès - Ouahes Iza\n",
    "# Kaggle - Titanic\n",
    "## I - Libraries & Files"
   ]
  },
  {
   "cell_type": "code",
   "execution_count": 1,
   "metadata": {
    "collapsed": true
   },
   "outputs": [],
   "source": [
    "import pandas as pd\n",
    "import numpy as np\n",
    "import matplotlib.pyplot as plt\n",
    "%matplotlib inline\n",
    "import seaborn as sns\n",
    "from operator import itemgetter"
   ]
  },
  {
   "cell_type": "code",
   "execution_count": 2,
   "metadata": {},
   "outputs": [
    {
     "ename": "IOError",
     "evalue": "File C:\\Users\\Romain\\Documents\\230 - MSc ESSEC\\304 - Machine Learning\\02 - Kaggle Titanic/Datasets/train.csv does not exist",
     "output_type": "error",
     "traceback": [
      "\u001b[1;31m\u001b[0m",
      "\u001b[1;31mIOError\u001b[0mTraceback (most recent call last)",
      "\u001b[1;32m<ipython-input-2-b959c8b457bc>\u001b[0m in \u001b[0;36m<module>\u001b[1;34m()\u001b[0m\n\u001b[0;32m      1\u001b[0m \u001b[0mpath\u001b[0m \u001b[1;33m=\u001b[0m \u001b[1;34mr\"C:\\Users\\Romain\\Documents\\230 - MSc ESSEC\\304 - Machine Learning\\02 - Kaggle Titanic\"\u001b[0m\u001b[1;33m\u001b[0m\u001b[0m\n\u001b[0;32m      2\u001b[0m \u001b[1;33m\u001b[0m\u001b[0m\n\u001b[1;32m----> 3\u001b[1;33m \u001b[0mtrain\u001b[0m \u001b[1;33m=\u001b[0m \u001b[0mpd\u001b[0m\u001b[1;33m.\u001b[0m\u001b[0mread_csv\u001b[0m\u001b[1;33m(\u001b[0m\u001b[0mpath\u001b[0m\u001b[1;33m+\u001b[0m\u001b[1;34m'/Datasets/train.csv'\u001b[0m\u001b[1;33m)\u001b[0m\u001b[1;33m\u001b[0m\u001b[0m\n\u001b[0m\u001b[0;32m      4\u001b[0m \u001b[0mtest_users\u001b[0m \u001b[1;33m=\u001b[0m \u001b[0mpd\u001b[0m\u001b[1;33m.\u001b[0m\u001b[0mread_csv\u001b[0m\u001b[1;33m(\u001b[0m\u001b[0mpath\u001b[0m\u001b[1;33m+\u001b[0m\u001b[1;34mr\"\\Datasets\\test.csv\"\u001b[0m\u001b[1;33m)\u001b[0m\u001b[1;33m\u001b[0m\u001b[0m\n\u001b[0;32m      5\u001b[0m \u001b[0msubmission\u001b[0m \u001b[1;33m=\u001b[0m \u001b[0mpd\u001b[0m\u001b[1;33m.\u001b[0m\u001b[0mread_csv\u001b[0m\u001b[1;33m(\u001b[0m\u001b[0mpath\u001b[0m\u001b[1;33m+\u001b[0m\u001b[1;34m'/Datasets/gender_submission.csv'\u001b[0m\u001b[1;33m)\u001b[0m\u001b[1;33m\u001b[0m\u001b[0m\n",
      "\u001b[1;32mC:\\Users\\izaou\\Anaconda3\\lib\\site-packages\\pandas\\io\\parsers.pyc\u001b[0m in \u001b[0;36mparser_f\u001b[1;34m(filepath_or_buffer, sep, delimiter, header, names, index_col, usecols, squeeze, prefix, mangle_dupe_cols, dtype, engine, converters, true_values, false_values, skipinitialspace, skiprows, nrows, na_values, keep_default_na, na_filter, verbose, skip_blank_lines, parse_dates, infer_datetime_format, keep_date_col, date_parser, dayfirst, iterator, chunksize, compression, thousands, decimal, lineterminator, quotechar, quoting, escapechar, comment, encoding, dialect, tupleize_cols, error_bad_lines, warn_bad_lines, skipfooter, skip_footer, doublequote, delim_whitespace, as_recarray, compact_ints, use_unsigned, low_memory, buffer_lines, memory_map, float_precision)\u001b[0m\n\u001b[0;32m    653\u001b[0m                     skip_blank_lines=skip_blank_lines)\n\u001b[0;32m    654\u001b[0m \u001b[1;33m\u001b[0m\u001b[0m\n\u001b[1;32m--> 655\u001b[1;33m         \u001b[1;32mreturn\u001b[0m \u001b[0m_read\u001b[0m\u001b[1;33m(\u001b[0m\u001b[0mfilepath_or_buffer\u001b[0m\u001b[1;33m,\u001b[0m \u001b[0mkwds\u001b[0m\u001b[1;33m)\u001b[0m\u001b[1;33m\u001b[0m\u001b[0m\n\u001b[0m\u001b[0;32m    656\u001b[0m \u001b[1;33m\u001b[0m\u001b[0m\n\u001b[0;32m    657\u001b[0m     \u001b[0mparser_f\u001b[0m\u001b[1;33m.\u001b[0m\u001b[0m__name__\u001b[0m \u001b[1;33m=\u001b[0m \u001b[0mname\u001b[0m\u001b[1;33m\u001b[0m\u001b[0m\n",
      "\u001b[1;32mC:\\Users\\izaou\\Anaconda3\\lib\\site-packages\\pandas\\io\\parsers.pyc\u001b[0m in \u001b[0;36m_read\u001b[1;34m(filepath_or_buffer, kwds)\u001b[0m\n\u001b[0;32m    403\u001b[0m \u001b[1;33m\u001b[0m\u001b[0m\n\u001b[0;32m    404\u001b[0m     \u001b[1;31m# Create the parser.\u001b[0m\u001b[1;33m\u001b[0m\u001b[1;33m\u001b[0m\u001b[0m\n\u001b[1;32m--> 405\u001b[1;33m     \u001b[0mparser\u001b[0m \u001b[1;33m=\u001b[0m \u001b[0mTextFileReader\u001b[0m\u001b[1;33m(\u001b[0m\u001b[0mfilepath_or_buffer\u001b[0m\u001b[1;33m,\u001b[0m \u001b[1;33m**\u001b[0m\u001b[0mkwds\u001b[0m\u001b[1;33m)\u001b[0m\u001b[1;33m\u001b[0m\u001b[0m\n\u001b[0m\u001b[0;32m    406\u001b[0m \u001b[1;33m\u001b[0m\u001b[0m\n\u001b[0;32m    407\u001b[0m     \u001b[1;32mif\u001b[0m \u001b[0mchunksize\u001b[0m \u001b[1;32mor\u001b[0m \u001b[0miterator\u001b[0m\u001b[1;33m:\u001b[0m\u001b[1;33m\u001b[0m\u001b[0m\n",
      "\u001b[1;32mC:\\Users\\izaou\\Anaconda3\\lib\\site-packages\\pandas\\io\\parsers.pyc\u001b[0m in \u001b[0;36m__init__\u001b[1;34m(self, f, engine, **kwds)\u001b[0m\n\u001b[0;32m    762\u001b[0m             \u001b[0mself\u001b[0m\u001b[1;33m.\u001b[0m\u001b[0moptions\u001b[0m\u001b[1;33m[\u001b[0m\u001b[1;34m'has_index_names'\u001b[0m\u001b[1;33m]\u001b[0m \u001b[1;33m=\u001b[0m \u001b[0mkwds\u001b[0m\u001b[1;33m[\u001b[0m\u001b[1;34m'has_index_names'\u001b[0m\u001b[1;33m]\u001b[0m\u001b[1;33m\u001b[0m\u001b[0m\n\u001b[0;32m    763\u001b[0m \u001b[1;33m\u001b[0m\u001b[0m\n\u001b[1;32m--> 764\u001b[1;33m         \u001b[0mself\u001b[0m\u001b[1;33m.\u001b[0m\u001b[0m_make_engine\u001b[0m\u001b[1;33m(\u001b[0m\u001b[0mself\u001b[0m\u001b[1;33m.\u001b[0m\u001b[0mengine\u001b[0m\u001b[1;33m)\u001b[0m\u001b[1;33m\u001b[0m\u001b[0m\n\u001b[0m\u001b[0;32m    765\u001b[0m \u001b[1;33m\u001b[0m\u001b[0m\n\u001b[0;32m    766\u001b[0m     \u001b[1;32mdef\u001b[0m \u001b[0mclose\u001b[0m\u001b[1;33m(\u001b[0m\u001b[0mself\u001b[0m\u001b[1;33m)\u001b[0m\u001b[1;33m:\u001b[0m\u001b[1;33m\u001b[0m\u001b[0m\n",
      "\u001b[1;32mC:\\Users\\izaou\\Anaconda3\\lib\\site-packages\\pandas\\io\\parsers.pyc\u001b[0m in \u001b[0;36m_make_engine\u001b[1;34m(self, engine)\u001b[0m\n\u001b[0;32m    983\u001b[0m     \u001b[1;32mdef\u001b[0m \u001b[0m_make_engine\u001b[0m\u001b[1;33m(\u001b[0m\u001b[0mself\u001b[0m\u001b[1;33m,\u001b[0m \u001b[0mengine\u001b[0m\u001b[1;33m=\u001b[0m\u001b[1;34m'c'\u001b[0m\u001b[1;33m)\u001b[0m\u001b[1;33m:\u001b[0m\u001b[1;33m\u001b[0m\u001b[0m\n\u001b[0;32m    984\u001b[0m         \u001b[1;32mif\u001b[0m \u001b[0mengine\u001b[0m \u001b[1;33m==\u001b[0m \u001b[1;34m'c'\u001b[0m\u001b[1;33m:\u001b[0m\u001b[1;33m\u001b[0m\u001b[0m\n\u001b[1;32m--> 985\u001b[1;33m             \u001b[0mself\u001b[0m\u001b[1;33m.\u001b[0m\u001b[0m_engine\u001b[0m \u001b[1;33m=\u001b[0m \u001b[0mCParserWrapper\u001b[0m\u001b[1;33m(\u001b[0m\u001b[0mself\u001b[0m\u001b[1;33m.\u001b[0m\u001b[0mf\u001b[0m\u001b[1;33m,\u001b[0m \u001b[1;33m**\u001b[0m\u001b[0mself\u001b[0m\u001b[1;33m.\u001b[0m\u001b[0moptions\u001b[0m\u001b[1;33m)\u001b[0m\u001b[1;33m\u001b[0m\u001b[0m\n\u001b[0m\u001b[0;32m    986\u001b[0m         \u001b[1;32melse\u001b[0m\u001b[1;33m:\u001b[0m\u001b[1;33m\u001b[0m\u001b[0m\n\u001b[0;32m    987\u001b[0m             \u001b[1;32mif\u001b[0m \u001b[0mengine\u001b[0m \u001b[1;33m==\u001b[0m \u001b[1;34m'python'\u001b[0m\u001b[1;33m:\u001b[0m\u001b[1;33m\u001b[0m\u001b[0m\n",
      "\u001b[1;32mC:\\Users\\izaou\\Anaconda3\\lib\\site-packages\\pandas\\io\\parsers.pyc\u001b[0m in \u001b[0;36m__init__\u001b[1;34m(self, src, **kwds)\u001b[0m\n\u001b[0;32m   1603\u001b[0m         \u001b[0mkwds\u001b[0m\u001b[1;33m[\u001b[0m\u001b[1;34m'allow_leading_cols'\u001b[0m\u001b[1;33m]\u001b[0m \u001b[1;33m=\u001b[0m \u001b[0mself\u001b[0m\u001b[1;33m.\u001b[0m\u001b[0mindex_col\u001b[0m \u001b[1;32mis\u001b[0m \u001b[1;32mnot\u001b[0m \u001b[0mFalse\u001b[0m\u001b[1;33m\u001b[0m\u001b[0m\n\u001b[0;32m   1604\u001b[0m \u001b[1;33m\u001b[0m\u001b[0m\n\u001b[1;32m-> 1605\u001b[1;33m         \u001b[0mself\u001b[0m\u001b[1;33m.\u001b[0m\u001b[0m_reader\u001b[0m \u001b[1;33m=\u001b[0m \u001b[0mparsers\u001b[0m\u001b[1;33m.\u001b[0m\u001b[0mTextReader\u001b[0m\u001b[1;33m(\u001b[0m\u001b[0msrc\u001b[0m\u001b[1;33m,\u001b[0m \u001b[1;33m**\u001b[0m\u001b[0mkwds\u001b[0m\u001b[1;33m)\u001b[0m\u001b[1;33m\u001b[0m\u001b[0m\n\u001b[0m\u001b[0;32m   1606\u001b[0m \u001b[1;33m\u001b[0m\u001b[0m\n\u001b[0;32m   1607\u001b[0m         \u001b[1;31m# XXX\u001b[0m\u001b[1;33m\u001b[0m\u001b[1;33m\u001b[0m\u001b[0m\n",
      "\u001b[1;32mpandas/_libs/parsers.pyx\u001b[0m in \u001b[0;36mpandas._libs.parsers.TextReader.__cinit__ (pandas\\_libs\\parsers.c:4209)\u001b[1;34m()\u001b[0m\n",
      "\u001b[1;32mpandas/_libs/parsers.pyx\u001b[0m in \u001b[0;36mpandas._libs.parsers.TextReader._setup_parser_source (pandas\\_libs\\parsers.c:8873)\u001b[1;34m()\u001b[0m\n",
      "\u001b[1;31mIOError\u001b[0m: File C:\\Users\\Romain\\Documents\\230 - MSc ESSEC\\304 - Machine Learning\\02 - Kaggle Titanic/Datasets/train.csv does not exist"
     ]
    }
   ],
   "source": [
    "path = r\"C:\\Users\\Romain\\Documents\\230 - MSc ESSEC\\304 - Machine Learning\\02 - Kaggle Titanic\"\n",
    "\n",
    "train = pd.read_csv(path+'/Datasets/train.csv')\n",
    "test_users = pd.read_csv(path+r\"\\Datasets\\test.csv\")\n",
    "submission = pd.read_csv(path+'/Datasets/gender_submission.csv')"
   ]
  },
  {
   "cell_type": "markdown",
   "metadata": {},
   "source": [
    "## II - Data preprocessing & feature engineering\n",
    "### 1 - Functions\n",
    "#### Creating a crosstab function to plot a graph"
   ]
  },
  {
   "cell_type": "code",
   "execution_count": null,
   "metadata": {
    "collapsed": true
   },
   "outputs": [],
   "source": [
    "def graph_crosstab(data = train, feature = 'Age', target_feature = 'Survived', normalize = False, title=1):\n",
    "    mat=pd.crosstab(data[feature], data[target_feature], normalize=normalize)\n",
    "    mat.plot(kind = 'bar', figsize=(13.5/1.5, 6/1.5))\n",
    "    if title==1:\n",
    "        plt.title(feature)\n",
    "    else:\n",
    "        plt.title(title)\n",
    "    plt.show()\n",
    "    return"
   ]
  },
  {
   "cell_type": "markdown",
   "metadata": {},
   "source": [
    "#### Creating function to transform string values into numerical values"
   ]
  },
  {
   "cell_type": "code",
   "execution_count": null,
   "metadata": {
    "collapsed": true
   },
   "outputs": [],
   "source": [
    "def from_str_to_int(data, cat_index, cat, cat_dico, new_cat=''):\n",
    "    if new_cat!='':\n",
    "        for i in range(len(cat_index)):\n",
    "            data.loc[data[cat]==cat_index[i], new_cat]=i\n",
    "            cat_dico[cat_index[i]]=i\n",
    "        cat_dico['Other']=len(cat_index)\n",
    "    else:\n",
    "        for i in range(len(cat_index)):\n",
    "            data.loc[data[cat]==cat_index[i], cat]=i\n",
    "            cat_dico[cat_index[i]]=i\n",
    "    return"
   ]
  },
  {
   "cell_type": "markdown",
   "metadata": {},
   "source": [
    "### 2 - First approach\n",
    "#### Plot different graphs to get a first idea of the importance of a feature in survivability"
   ]
  },
  {
   "cell_type": "code",
   "execution_count": null,
   "metadata": {
    "collapsed": true
   },
   "outputs": [],
   "source": [
    "graph_crosstab(feature='Sex')\n",
    "graph_crosstab(feature='Pclass')\n",
    "graph_crosstab(feature='SibSp', normalize=0, title='Sibling / Spouse')\n",
    "graph_crosstab(feature='Parch', normalize=0, title='Parents / Children')"
   ]
  },
  {
   "cell_type": "markdown",
   "metadata": {},
   "source": [
    "#### Link between columns 'Pclass' & 'Fare'\n",
    "#### Find the outliers in 'Fare'"
   ]
  },
  {
   "cell_type": "code",
   "execution_count": null,
   "metadata": {
    "collapsed": true
   },
   "outputs": [],
   "source": [
    "PClass_palette = {1:\"b\", 2:\"y\", 3:\"r\"}\n",
    "plt.figure(figsize=(15,5))\n",
    "\n",
    "plt.subplot(1,2,1)\n",
    "sns.boxplot( x=train[\"Pclass\"], y=train[\"Fare\"], palette=PClass_palette, showfliers=True)\n",
    "plt.title('With outliers')\n",
    "\n",
    "plt.subplot(1,2,2)\n",
    "sns.boxplot( x=train[\"Pclass\"], y=train[\"Fare\"], palette=PClass_palette, showfliers=False)\n",
    "plt.title('Without outliers')\n",
    "plt.show()"
   ]
  },
  {
   "cell_type": "code",
   "execution_count": null,
   "metadata": {
    "collapsed": true
   },
   "outputs": [],
   "source": [
    "PClass_palette = {1:\"b\", 2:\"y\", 3:\"r\"}\n",
    "plt.figure(figsize=(15,5))\n",
    "\n",
    "plt.subplot(1,2,1)\n",
    "sns.boxplot( x=test_users[\"Pclass\"], y=test_users[\"Fare\"], palette=PClass_palette, showfliers=True)\n",
    "plt.title('With outliers')\n",
    "\n",
    "plt.subplot(1,2,2)\n",
    "sns.boxplot( x=test_users[\"Pclass\"], y=test_users[\"Fare\"], palette=PClass_palette, showfliers=False)\n",
    "plt.title('Without outliers')\n",
    "plt.show()"
   ]
  },
  {
   "cell_type": "markdown",
   "metadata": {},
   "source": [
    "### 3 - Create new columns\n",
    "#### Create new 'Title' & 'Last_Name' columns from 'Name' column"
   ]
  },
  {
   "cell_type": "code",
   "execution_count": null,
   "metadata": {
    "collapsed": true
   },
   "outputs": [],
   "source": [
    "def create_col_titre_name(data=train):\n",
    "    data['Titre'] = data['Name'].apply(lambda x : str(x).split(',')[1].split('.')[0][1:])\n",
    "    data['Titre'] = data['Titre'].astype('category')\n",
    "    data['Last_Name'] = data['Name'].apply(lambda x : str(x).split(',')[0].replace(' ',''))\n",
    "    return\n",
    "\n",
    "create_col_titre_name(train)\n",
    "create_col_titre_name(test_users)"
   ]
  },
  {
   "cell_type": "code",
   "execution_count": null,
   "metadata": {
    "collapsed": true
   },
   "outputs": [],
   "source": [
    "graph_crosstab(feature='Titre', normalize=True)"
   ]
  },
  {
   "cell_type": "markdown",
   "metadata": {},
   "source": [
    "#### Create 5 groups with 'Title'"
   ]
  },
  {
   "cell_type": "code",
   "execution_count": null,
   "metadata": {
    "collapsed": true
   },
   "outputs": [],
   "source": [
    "titre_index=['Mr','Miss','Mrs', 'Master']\n",
    "\n",
    "train['Titre_int']=int(len(titre_index))\n",
    "titre_dico=dict()\n",
    "from_str_to_int(data=train, cat_index=titre_index, cat='Titre', cat_dico=titre_dico, new_cat='Titre_int')\n",
    "\n",
    "test_users['Titre_int']=int(len(titre_index))\n",
    "titre_dico_test=dict()\n",
    "from_str_to_int(data=test_users, cat_index=titre_index, cat='Titre', cat_dico=titre_dico_test, new_cat='Titre_int')"
   ]
  },
  {
   "cell_type": "code",
   "execution_count": null,
   "metadata": {
    "collapsed": true
   },
   "outputs": [],
   "source": [
    "x=[0,1,2,3,4]\n",
    "labels=['Mr','Miss','Mrs','Master','Other']\n",
    "\n",
    "pd.crosstab(train['Titre_int'], train['Survived'], normalize=False).plot(kind='bar', figsize=(14,6))\n",
    "\n",
    "plt.xticks(x, labels, rotation=45)\n",
    "\n",
    "plt.show()"
   ]
  },
  {
   "cell_type": "markdown",
   "metadata": {},
   "source": [
    "#### Create 'Family' column and 3 new groups (no family on board; 1,2 or 3 family members on board; more than 3 family member on board)"
   ]
  },
  {
   "cell_type": "code",
   "execution_count": null,
   "metadata": {
    "collapsed": true
   },
   "outputs": [],
   "source": [
    "train['Family']=train['SibSp']+train['Parch']\n",
    "test_users['Family']=test_users['SibSp']+test_users['Parch']"
   ]
  },
  {
   "cell_type": "code",
   "execution_count": null,
   "metadata": {
    "collapsed": true
   },
   "outputs": [],
   "source": [
    "graph_crosstab(feature='Family', normalize=0)"
   ]
  },
  {
   "cell_type": "code",
   "execution_count": null,
   "metadata": {
    "collapsed": true
   },
   "outputs": [],
   "source": [
    "train['Family_group']=int(2)\n",
    "train.loc[train['Family']==0, 'Family_group']=0\n",
    "train.loc[train['Family']==1, 'Family_group']=1\n",
    "train.loc[train['Family']==2, 'Family_group']=1\n",
    "train.loc[train['Family']==3, 'Family_group']=1\n",
    "\n",
    "test_users['Family_group']=int(2)\n",
    "test_users.loc[test_users['Family']==0, 'Family_group']=0\n",
    "test_users.loc[test_users['Family']==1, 'Family_group']=1\n",
    "test_users.loc[test_users['Family']==2, 'Family_group']=1\n",
    "test_users.loc[test_users['Family']==3, 'Family_group']=1"
   ]
  },
  {
   "cell_type": "code",
   "execution_count": null,
   "metadata": {
    "collapsed": true
   },
   "outputs": [],
   "source": [
    "x=[0,1,2]\n",
    "labels=['Alone','1,2 or 3 family members on board','More than 3 family members on board']\n",
    "\n",
    "pd.crosstab(train['Family_group'], train['Survived'], normalize=False).plot(kind='bar', figsize=(14,6))\n",
    "\n",
    "plt.xticks(x, labels, rotation=0)\n",
    "\n",
    "plt.show()"
   ]
  },
  {
   "cell_type": "markdown",
   "metadata": {},
   "source": [
    "#### Create 'Cabin_lettre' column, with the first letter of the cabin, or 'Z' if the cabin is not filled"
   ]
  },
  {
   "cell_type": "code",
   "execution_count": null,
   "metadata": {
    "collapsed": true
   },
   "outputs": [],
   "source": [
    "train['Cabin_lettre'] = train['Cabin'].fillna('Z').apply(lambda x : str(x)[0])\n",
    "test_users['Cabin_lettre'] = test_users['Cabin'].fillna('Z').apply(lambda x : str(x)[0])"
   ]
  },
  {
   "cell_type": "code",
   "execution_count": null,
   "metadata": {
    "collapsed": true
   },
   "outputs": [],
   "source": [
    "graph_crosstab(feature='Cabin_lettre', normalize=True)"
   ]
  },
  {
   "cell_type": "code",
   "execution_count": null,
   "metadata": {
    "collapsed": true
   },
   "outputs": [],
   "source": [
    "train['Cabin_lettre_group']=int(2)\n",
    "train.loc[train['Cabin_lettre']=='Z', 'Cabin_lettre_group']=0\n",
    "train.loc[train['Cabin_lettre']=='A', 'Cabin_lettre_group']=1\n",
    "train.loc[train['Cabin_lettre']=='G', 'Cabin_lettre_group']=1\n",
    "\n",
    "test_users['Cabin_lettre_group']=int(2)\n",
    "test_users.loc[train['Cabin_lettre']=='Z', 'Cabin_lettre_group']=0\n",
    "test_users.loc[train['Cabin_lettre']=='A', 'Cabin_lettre_group']=1\n",
    "test_users.loc[train['Cabin_lettre']=='G', 'Cabin_lettre_group']=1"
   ]
  },
  {
   "cell_type": "code",
   "execution_count": null,
   "metadata": {
    "collapsed": true
   },
   "outputs": [],
   "source": [
    "x=[0,1,2]\n",
    "labels=['Cabin not filled','Cabins A or G','Cabins B, C, D, E, F or T']\n",
    "\n",
    "pd.crosstab(train['Cabin_lettre_group'], train['Survived'], normalize=False).plot(kind='bar', figsize=(14,6))\n",
    "\n",
    "plt.xticks(x, labels, rotation=0)\n",
    "\n",
    "plt.show()"
   ]
  },
  {
   "cell_type": "markdown",
   "metadata": {},
   "source": [
    "#### Create 'Ticket_lettre' column with the first letter of the ticket"
   ]
  },
  {
   "cell_type": "code",
   "execution_count": null,
   "metadata": {
    "collapsed": true
   },
   "outputs": [],
   "source": [
    "train['Ticket_lettre'] = train['Ticket'].apply(lambda x : str(x)[0])\n",
    "test_users['Ticket_lettre'] = test_users['Ticket'].apply(lambda x : str(x)[0])"
   ]
  },
  {
   "cell_type": "code",
   "execution_count": null,
   "metadata": {
    "collapsed": true
   },
   "outputs": [],
   "source": [
    "graph_crosstab(feature='Ticket_lettre', normalize=False)"
   ]
  },
  {
   "cell_type": "markdown",
   "metadata": {},
   "source": [
    "### 4 - Fill train / test\n",
    "#### Fill 'Age' with the mean of ages by titles"
   ]
  },
  {
   "cell_type": "code",
   "execution_count": null,
   "metadata": {
    "collapsed": true
   },
   "outputs": [],
   "source": [
    "def fill_age_with_titre(data):\n",
    "    cat_titre=list((train['Titre'].cat.categories))\n",
    "    for i in cat_titre:\n",
    "        data.loc[data['Titre']==i, 'Age']=data.loc[data['Titre']==i, 'Age'].fillna(int(np.mean(train['Age'][train['Titre']==i])))\n",
    "    return\n",
    "\n",
    "fill_age_with_titre(train)\n",
    "fill_age_with_titre(test_users)"
   ]
  },
  {
   "cell_type": "markdown",
   "metadata": {},
   "source": [
    "#### Fill 'Embarked' with the same harbour than a family member, or with the most representative harbour 'S'"
   ]
  },
  {
   "cell_type": "code",
   "execution_count": null,
   "metadata": {
    "collapsed": true,
    "scrolled": false
   },
   "outputs": [],
   "source": [
    "train['Embarked']=train['Embarked'].fillna('S')"
   ]
  },
  {
   "cell_type": "markdown",
   "metadata": {},
   "source": [
    "#### Fill 'Fare' with the mean of 'Pclass'"
   ]
  },
  {
   "cell_type": "code",
   "execution_count": null,
   "metadata": {
    "collapsed": true
   },
   "outputs": [],
   "source": [
    "test_users.loc[(test_users['Fare'].isnull())&(test_users['Pclass']==3), 'Fare']=int(np.mean(test_users['Fare'][test_users['Pclass']==3]))"
   ]
  },
  {
   "cell_type": "markdown",
   "metadata": {},
   "source": [
    "### 5 - Transform columns into dummy ones, to avoid intern classification\n",
    "#### Transform string col Sex into binary one"
   ]
  },
  {
   "cell_type": "code",
   "execution_count": null,
   "metadata": {
    "collapsed": true
   },
   "outputs": [],
   "source": [
    "sex_index = ['male', 'female']\n",
    "\n",
    "sex_dico=dict()\n",
    "from_str_to_int(data=train, cat_index=sex_index, cat='Sex', cat_dico=sex_dico)\n",
    "\n",
    "sex_dico_test=dict()\n",
    "from_str_to_int(data=test_users, cat_index=sex_index, cat='Sex', cat_dico=sex_dico_test)"
   ]
  },
  {
   "cell_type": "code",
   "execution_count": null,
   "metadata": {
    "collapsed": true
   },
   "outputs": [],
   "source": [
    "# Dummy variables pour les Embarked\n",
    "train = pd.get_dummies(train, columns=['Embarked'])\n",
    "test_users = pd.get_dummies(test_users, columns=['Embarked'])\n",
    "\n",
    "# Dummy variables for Titre_int\n",
    "train = pd.get_dummies(train, columns=['Titre_int'])\n",
    "test_users = pd.get_dummies(test_users, columns=['Titre_int'])\n",
    "\n",
    "# Dummy variables for Family_group\n",
    "train = pd.get_dummies(train, columns=['Family_group'])\n",
    "test_users = pd.get_dummies(test_users, columns=['Family_group'])\n",
    "\n",
    "# Dummy variables for Cabin_lettre\n",
    "train = pd.get_dummies(train, columns=['Cabin_lettre'])\n",
    "test_users = pd.get_dummies(test_users, columns=['Cabin_lettre'])\n",
    "\n",
    "# Dummy variables pour Cabin_lettre_group\n",
    "train = pd.get_dummies(train, columns=['Cabin_lettre_group'])\n",
    "test_users = pd.get_dummies(test_users, columns=['Cabin_lettre_group'])\n",
    "\n",
    "# Dummy variables pour Ticket_lettre\n",
    "train = pd.get_dummies(train, columns=['Ticket_lettre'])\n",
    "test_users = pd.get_dummies(test_users, columns=['Ticket_lettre'])"
   ]
  },
  {
   "cell_type": "markdown",
   "metadata": {},
   "source": [
    "## III - Learning algorithm\n",
    "### 1 - Cross Validation on different models"
   ]
  },
  {
   "cell_type": "code",
   "execution_count": null,
   "metadata": {
    "collapsed": true
   },
   "outputs": [],
   "source": [
    "features_of_interest_CrossVal=[\"Pclass\", \"Parch\", \"SibSp\", \"Sex\", \"Age\", \"Fare\",\n",
    "                         'Titre_int_0', \"Titre_int_1\", \"Titre_int_2\", \"Titre_int_3\", \"Titre_int_4\",\n",
    "                         \"Embarked_C\", \"Embarked_Q\", \"Embarked_S\",\n",
    "                         'Cabin_lettre_A', 'Cabin_lettre_B', 'Cabin_lettre_C', 'Cabin_lettre_D', \n",
    "                         'Cabin_lettre_E', 'Cabin_lettre_F', 'Cabin_lettre_G', 'Cabin_lettre_Z',\n",
    "                         'Cabin_lettre_group_0', 'Cabin_lettre_group_1', 'Cabin_lettre_group_2',\n",
    "                         'Family_group_0', 'Family_group_1', 'Family_group_2',\n",
    "                         'Ticket_lettre_1', 'Ticket_lettre_2', 'Ticket_lettre_3', 'Ticket_lettre_4', \n",
    "                         'Ticket_lettre_6', 'Ticket_lettre_7', 'Ticket_lettre_9', 'Ticket_lettre_A', \n",
    "                         'Ticket_lettre_C', 'Ticket_lettre_F', 'Ticket_lettre_L', 'Ticket_lettre_P', \n",
    "                         'Ticket_lettre_S', 'Ticket_lettre_W']"
   ]
  },
  {
   "cell_type": "code",
   "execution_count": null,
   "metadata": {
    "collapsed": true
   },
   "outputs": [],
   "source": [
    "from sklearn.model_selection import train_test_split\n",
    "from sklearn.linear_model import LogisticRegression\n",
    "from sklearn.ensemble import RandomForestClassifier, AdaBoostClassifier, GradientBoostingClassifier, BaggingClassifier\n",
    "from sklearn.tree import DecisionTreeClassifier\n",
    "from sklearn.cross_validation import cross_val_score\n",
    "from sklearn.neighbors import KDTree"
   ]
  },
  {
   "cell_type": "code",
   "execution_count": null,
   "metadata": {
    "collapsed": true
   },
   "outputs": [],
   "source": [
    "X_train = train[features_of_interest_CrossVal]\n",
    "X_Survived = train['Survived']\n",
    "\n",
    "def fun_cross_val_score(my_MODEL, algo, cv=20):\n",
    "    scores = cross_val_score(my_MODEL, X_train, X_Survived, cv=cv)\n",
    "    return print(\"Accuracy %s: %0.4f (+/- %0.2f)\" % (algo ,scores.mean(), scores.std() * 2))"
   ]
  },
  {
   "cell_type": "code",
   "execution_count": null,
   "metadata": {
    "collapsed": true
   },
   "outputs": [],
   "source": [
    "models=dict()\n",
    "models['Random Forest 1']=RandomForestClassifier()\n",
    "\n",
    "models['Random Forest 2'] = RandomForestClassifier(\n",
    "    n_estimators=21, min_samples_split=10, max_leaf_nodes=10, max_depth=10, random_state=0)\n",
    "\n",
    "models['Random Forest 3'] = RandomForestClassifier(\n",
    "    n_estimators=20, min_samples_split=10, max_leaf_nodes=12, max_depth=12, random_state=0)\n",
    "\n",
    "models['Logistic Regression 1'] = LogisticRegression()\n",
    "\n",
    "models['Ada Boost 1'] = AdaBoostClassifier()\n",
    "\n",
    "models['Gradient Boosting Classifier'] = GradientBoostingClassifier()\n",
    "\n",
    "models['Decision Tree Classifier'] = DecisionTreeClassifier()"
   ]
  },
  {
   "cell_type": "code",
   "execution_count": null,
   "metadata": {
    "collapsed": true
   },
   "outputs": [],
   "source": [
    "for key, value in models.items():\n",
    "    fun_cross_val_score(value, key)"
   ]
  },
  {
   "cell_type": "code",
   "execution_count": null,
   "metadata": {
    "collapsed": true
   },
   "outputs": [],
   "source": [
    "list_test=list()\n",
    "for k,v in models.items():\n",
    "    list_test.append((k,v))"
   ]
  },
  {
   "cell_type": "code",
   "execution_count": null,
   "metadata": {
    "collapsed": true
   },
   "outputs": [],
   "source": [
    "fun_cross_val_score(VotingClassifier(estimators=list_test, voting='hard'), 'voting')"
   ]
  },
  {
   "cell_type": "markdown",
   "metadata": {},
   "source": [
    "### 2 - Optimization of these models"
   ]
  },
  {
   "cell_type": "code",
   "execution_count": null,
   "metadata": {
    "collapsed": true
   },
   "outputs": [],
   "source": [
    "from sklearn.model_selection import GridSearchCV"
   ]
  },
  {
   "cell_type": "code",
   "execution_count": null,
   "metadata": {
    "collapsed": true
   },
   "outputs": [],
   "source": []
  },
  {
   "cell_type": "code",
   "execution_count": null,
   "metadata": {
    "collapsed": true
   },
   "outputs": [],
   "source": []
  },
  {
   "cell_type": "markdown",
   "metadata": {},
   "source": [
    "### 3 - Random Forest (0.81339 on Kaggle)"
   ]
  },
  {
   "cell_type": "code",
   "execution_count": null,
   "metadata": {
    "collapsed": true
   },
   "outputs": [],
   "source": [
    "from sklearn.ensemble import RandomForestClassifier"
   ]
  },
  {
   "cell_type": "code",
   "execution_count": null,
   "metadata": {
    "collapsed": true
   },
   "outputs": [],
   "source": [
    "target_RF = train['Survived'].values\n",
    "\n",
    "features_of_interest_RF=features_of_interest_CrossVal\n",
    "\n",
    "features_RF = train[features_of_interest_RF].values\n",
    "\n",
    "my_RF = RandomForestClassifier(n_estimators=21, min_samples_split=10, max_leaf_nodes=10, max_depth=10, random_state=0)\n",
    "\n",
    "my_RF = my_RF.fit(features_RF, target_RF)\n",
    "\n",
    "print(my_RF.score(features_RF, target_RF))\n",
    "\n",
    "feature_of_importance = (sorted(zip(map(lambda x: round(int(x*10000)/100, 15), my_RF.feature_importances_), features_of_interest_RF), \n",
    "             reverse=False))\n",
    "\n",
    "features=pd.DataFrame()\n",
    "for i in range(len(feature_of_importance)):\n",
    "    features.loc[i, 'Feature']=feature_of_importance[i][1]\n",
    "    features.loc[i, 'Score']=feature_of_importance[i][0]\n",
    "    \n",
    "features.set_index('Feature', inplace=True)\n",
    "features.plot(kind='barh', figsize=(9,9), title='Features importance')\n",
    "\n",
    "test_features_RF = test_users[features_of_interest_RF].values\n",
    "\n",
    "my_prediction_RF = my_RF.predict(test_features_RF)\n",
    "\n",
    "PassengerId =np.array(test_users[\"PassengerId\"]).astype(int)\n",
    "my_solution_RF = pd.DataFrame(my_prediction_RF, PassengerId, columns = [\"Survived\"])\n",
    "\n",
    "my_solution_RF.to_csv(\"my_solution_RF.csv\", index_label = [\"PassengerId\"])"
   ]
  },
  {
   "cell_type": "markdown",
   "metadata": {},
   "source": [
    "### 3 - LogisticRegression (0.77511 on Kaggle)"
   ]
  },
  {
   "cell_type": "code",
   "execution_count": null,
   "metadata": {
    "collapsed": true
   },
   "outputs": [],
   "source": [
    "from sklearn.linear_model import LogisticRegression"
   ]
  },
  {
   "cell_type": "code",
   "execution_count": null,
   "metadata": {
    "collapsed": true
   },
   "outputs": [],
   "source": [
    "target_LR = train['Survived'].values\n",
    "\n",
    "features_of_interest_LR=features_of_interest_CrossVal\n",
    "\n",
    "features_LR = train[features_of_interest_LR].values\n",
    "\n",
    "my_LR = LogisticRegression(random_state=0)\n",
    "my_LR = my_LR.fit(features_LR, target_LR)\n",
    "\n",
    "print(my_LR.score(features_LR, target_LR))\n",
    "\n",
    "feature_of_importance = (sorted(zip(map(lambda x: (round(int(x*10000)/100, 15)), my_LR.coef_[0]), features_of_interest_LR), \n",
    "             reverse=False))\n",
    "\n",
    "features=pd.DataFrame()\n",
    "for i in range(len(feature_of_importance)):\n",
    "    features.loc[i, 'Feature']=feature_of_importance[i][1]\n",
    "    features.loc[i, 'Score']=feature_of_importance[i][0]\n",
    "    \n",
    "features.set_index('Feature', inplace=True)\n",
    "features.plot(kind='barh', figsize=(9,9), title='Features importance')\n",
    "\n",
    "test_features_LR = test_users[features_of_interest_LR].values\n",
    "\n",
    "my_prediction_LR = my_LR.predict(test_features_LR)\n",
    "\n",
    "PassengerId =np.array(test_users[\"PassengerId\"]).astype(int)\n",
    "my_solution_LR = pd.DataFrame(my_prediction_LR, PassengerId, columns = [\"Survived\"])\n",
    "\n",
    "my_solution_LR.to_csv(\"my_solution_LR.csv\", index_label = [\"PassengerId\"])"
   ]
  },
  {
   "cell_type": "markdown",
   "metadata": {},
   "source": [
    "### End - VotingClassifier (0.81818 on Kaggle)"
   ]
  },
  {
   "cell_type": "code",
   "execution_count": null,
   "metadata": {
    "collapsed": true
   },
   "outputs": [],
   "source": [
    "from sklearn.model_selection import cross_val_score\n",
    "from sklearn.linear_model import LogisticRegression\n",
    "from sklearn.ensemble import RandomForestClassifier\n",
    "from sklearn.ensemble import VotingClassifier\n",
    "\n",
    "target_VC = train['Survived'].values\n",
    "\n",
    "features_of_interest_VC=features_of_interest_CrossVal\n",
    "\n",
    "\n",
    "features_VC = train[features_of_interest_VC].values\n",
    "\n",
    "clf1 = LogisticRegression(random_state=0)\n",
    "clf2 = RandomForestClassifier(n_estimators=21, min_samples_split=10, max_leaf_nodes=10, max_depth=10, random_state=0)\n",
    "\n",
    "\n",
    "eclf = VotingClassifier(estimators=[('lr', clf1), \n",
    "                                    ('rf', clf2)], voting='hard')\n",
    "\n",
    "my_VC = eclf.fit(features_VC, target_VC)\n",
    "\n",
    "for clf, label in zip([clf1, \n",
    "                       clf2,\n",
    "                       eclf], ['Logistic Regression', 'Random Forest', 'Ensemble']):\n",
    "    scores = cross_val_score(clf, features_VC, target_VC, cv=15, scoring='accuracy')\n",
    "    print(\"Accuracy: %0.2f (+/- %0.2f) [%s]\" % (scores.mean(), scores.std(), label))\n",
    "    \n",
    "print(my_VC.score(features_VC, target_VC))\n",
    "\n",
    "test_features_VC = test_users[features_of_interest_VC].values\n",
    "\n",
    "my_prediction_VC = my_VC.predict(test_features_VC)\n",
    "\n",
    "PassengerId =np.array(test_users[\"PassengerId\"]).astype(int)\n",
    "my_solution_VC = pd.DataFrame(my_prediction_VC, PassengerId, columns = [\"Survived\"])\n",
    "\n",
    "my_solution_VC.to_csv(\"my_solution_VC.csv\", index_label = [\"PassengerId\"])"
   ]
  },
  {
   "cell_type": "code",
   "execution_count": null,
   "metadata": {
    "collapsed": true
   },
   "outputs": [],
   "source": []
  }
 ],
 "metadata": {
  "kernelspec": {
   "display_name": "Python 2",
   "language": "python",
   "name": "python2"
  },
  "language_info": {
   "codemirror_mode": {
    "name": "ipython",
    "version": 2
   },
   "file_extension": ".py",
   "mimetype": "text/x-python",
   "name": "python",
   "nbconvert_exporter": "python",
   "pygments_lexer": "ipython2",
   "version": "2.7.8"
  }
 },
 "nbformat": 4,
 "nbformat_minor": 2
}
